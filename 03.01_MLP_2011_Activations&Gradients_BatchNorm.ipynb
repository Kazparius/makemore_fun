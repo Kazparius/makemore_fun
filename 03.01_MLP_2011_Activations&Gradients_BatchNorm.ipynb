{
 "cells": [
  {
   "cell_type": "markdown",
   "id": "9527f162-4348-409d-84ba-1939cd7d85ec",
   "metadata": {},
   "source": [
    "**READINGS / PAPER:** https://arxiv.org/abs/1609.03499"
   ]
  },
  {
   "cell_type": "code",
   "execution_count": 1,
   "id": "b4fed020-46e7-4b6e-a0ca-c3f26fe7fb94",
   "metadata": {},
   "outputs": [],
   "source": [
    "import torch\n",
    "import torch.nn.functional as F\n",
    "import matplotlib.pyplot as plt"
   ]
  },
  {
   "cell_type": "code",
   "execution_count": 2,
   "id": "a590359b-b0c9-4db9-8c0b-904198f423eb",
   "metadata": {},
   "outputs": [
    {
     "data": {
      "text/plain": [
       "['emma', 'olivia', 'ava', 'isabella', 'sophia', 'charlotte', 'mia', 'amelia']"
      ]
     },
     "execution_count": 2,
     "metadata": {},
     "output_type": "execute_result"
    }
   ],
   "source": [
    "words = open('C:\\\\Users\\\\kaspa\\\\Desktop\\\\makemore_fun\\\\makemore-master\\\\names.txt', mode='r').read().split()\n",
    "words[:8]"
   ]
  },
  {
   "cell_type": "code",
   "execution_count": 3,
   "id": "5783c8c6-7348-448c-a5f2-b8d14682b3db",
   "metadata": {},
   "outputs": [
    {
     "data": {
      "text/plain": [
       "32033"
      ]
     },
     "execution_count": 3,
     "metadata": {},
     "output_type": "execute_result"
    }
   ],
   "source": [
    "len(words)"
   ]
  },
  {
   "cell_type": "code",
   "execution_count": 4,
   "id": "bef6ca84-d8c9-48e9-abfa-ad20c190570b",
   "metadata": {},
   "outputs": [
    {
     "name": "stdout",
     "output_type": "stream",
     "text": [
      "{1: 'a', 2: 'b', 3: 'c', 4: 'd', 5: 'e', 6: 'f', 7: 'g', 8: 'h', 9: 'i', 10: 'j', 11: 'k', 12: 'l', 13: 'm', 14: 'n', 15: 'o', 16: 'p', 17: 'q', 18: 'r', 19: 's', 20: 't', 21: 'u', 22: 'v', 23: 'w', 24: 'x', 25: 'y', 26: 'z', 0: '.'}\n",
      "27\n"
     ]
    }
   ],
   "source": [
    "# build the vocabulary of chars and mapping to (stoi) / from (itos) integers\n",
    "chars = sorted(list(set(''.join(words))))\n",
    "\n",
    "stoi = {s:i+1 for i,s in enumerate(chars)}\n",
    "stoi['.'] = 0\n",
    "\n",
    "itos = {i:s for s,i in stoi.items()}\n",
    "vocab_size = len(itos)\n",
    "\n",
    "print(itos)\n",
    "print(vocab_size)"
   ]
  },
  {
   "cell_type": "markdown",
   "id": "1df57cf6-784b-4419-84f2-009e1010673f",
   "metadata": {},
   "source": [
    "## DISTRIBUTION OF DATA (train/dev/test)"
   ]
  },
  {
   "cell_type": "code",
   "execution_count": 5,
   "id": "edea3dad-ef26-4ceb-8c29-2a0bc71af273",
   "metadata": {},
   "outputs": [
    {
     "name": "stdout",
     "output_type": "stream",
     "text": [
      "torch.Size([182625, 3]) torch.Size([182625])\n",
      "torch.Size([22655, 3]) torch.Size([22655])\n",
      "torch.Size([22866, 3]) torch.Size([22866])\n"
     ]
    }
   ],
   "source": [
    "# create the dataset split\n",
    "block_size = 3 # context length for the next word prediction\n",
    "\n",
    "def build_dataset(words):\n",
    "    X,Y = [],[] \n",
    "    \n",
    "    for w in words:\n",
    "        context = [0] * block_size\n",
    "        for ch in w + '.':\n",
    "            ix = stoi[ch]\n",
    "            X.append(context)\n",
    "            Y.append(ix)\n",
    "            context = context[1:] + [ix] #crop and append\n",
    "            \n",
    "    X = torch.tensor(X)\n",
    "    Y = torch.tensor(Y)\n",
    "    print(X.shape,Y.shape)\n",
    "    return X,Y\n",
    "\n",
    "import random\n",
    "random.seed(42)\n",
    "random.shuffle(words)\n",
    "n1 = int(0.8*len(words))\n",
    "n2 = int(0.9*len(words))\n",
    "\n",
    "X_train,Y_train = build_dataset(words[:n1])\n",
    "X_dev,Y_dev = build_dataset(words[n1:n2])\n",
    "X_test,Y_test = build_dataset(words[n2:])"
   ]
  },
  {
   "cell_type": "markdown",
   "id": "56a48ebe-bcca-4c22-a6ae-769dff084a75",
   "metadata": {},
   "source": [
    "## INITIALIZE THE MLP - FIXING INIT PROBLEMS (ACTIVATION & GRADIENTS)"
   ]
  },
  {
   "cell_type": "markdown",
   "id": "2bfca1f4-0654-45c3-bda3-a08ac2905b7d",
   "metadata": {},
   "source": [
    "**LINK**: https://pytorch.org/docs/stable/nn.init.html#torch.nn.init.kaiming_normal_"
   ]
  },
  {
   "cell_type": "code",
   "execution_count": 6,
   "id": "1ef202d5-e7d8-4129-a2a1-f53974c44570",
   "metadata": {},
   "outputs": [
    {
     "name": "stdout",
     "output_type": "stream",
     "text": [
      "12297\n"
     ]
    }
   ],
   "source": [
    "# MLP\n",
    "n_embd = 10\n",
    "n_hidden = 200\n",
    "\n",
    "g = torch.Generator().manual_seed(2147483647)\n",
    "C = torch.randn((vocab_size,n_embd),                      generator=g)\n",
    "#---------------------------------------------------------------------------------\n",
    "W1 = torch.randn((n_embd * block_size,n_hidden),          generator=g) * (5/3) / ((n_embd * block_size )**0.5) # <-NEW - FIX TANH layer too stureted at init\n",
    "# b1 = torch.randn(n_hidden,                                generator=g) * 0.01 # <-NEW - FIX tanh layer too stureted at init\n",
    "\n",
    "W2 = torch.randn((n_hidden,vocab_size),                   generator=g) * 0.01 # <-NEW - FIX SOFTMAX CONFIDENTLY WRONG (Do not Start with a full hockeystick)\n",
    "b2 = torch.randn(vocab_size,                              generator=g) * 0 # <-NEW \n",
    "#---------------------------------------------------------------------------------\n",
    "\n",
    "#BATCHNORM PARAMETERS\n",
    "#---------------------------------------------------------------------------------\n",
    "bngain = torch.ones((1,n_hidden))\n",
    "bnbias = torch.ones((1,n_hidden))\n",
    "bnmean_running = torch.ones((1,n_hidden))\n",
    "bnstd_running  = torch.ones((1,n_hidden))\n",
    "#---------------------------------------------------------------------------------\n",
    "\n",
    "parameters = [C, W1, b1, W2, b2, bngain,bnbias]\n",
    "print(sum(p.nelement() for p in parameters))\n",
    "for p in parameters:\n",
    "    p.requires_grad = True"
   ]
  },
  {
   "cell_type": "markdown",
   "id": "60cef320-cbb0-42b9-939d-238d43d6a3dd",
   "metadata": {},
   "source": [
    "**QUESTION:** WHAT LOSS IS THE BASE? \n",
    "\n",
    "**ANSWER:** THE LOSS OF A UNIFORM DISTRUBUTION.\n",
    "\n",
    "**Examples:**"
   ]
  },
  {
   "cell_type": "code",
   "execution_count": 7,
   "id": "18ed51ba-0416-4bdc-81e0-0480bf151139",
   "metadata": {},
   "outputs": [
    {
     "data": {
      "text/plain": [
       "tensor(3.2958)"
      ]
     },
     "execution_count": 7,
     "metadata": {},
     "output_type": "execute_result"
    }
   ],
   "source": [
    "# based on our 27 characters (A-Z + \".\")\n",
    "-torch.tensor(1/27).log()"
   ]
  },
  {
   "cell_type": "markdown",
   "id": "06b4f23c-24e6-4416-8aca-ea2609f04d9f",
   "metadata": {},
   "source": [
    "### TRAIN - FIXING INIT PROBLEMS (BATCHNORM)"
   ]
  },
  {
   "cell_type": "markdown",
   "id": "111e9e46-ada4-4544-9993-3f8ab86ac3b0",
   "metadata": {},
   "source": [
    "**LINK:** https://pytorch.org/docs/stable/generated/torch.nn.BatchNorm1d.html#batchnorm1d"
   ]
  },
  {
   "cell_type": "code",
   "execution_count": 8,
   "id": "100dbedb-a434-4f85-97ee-023b14c8ee80",
   "metadata": {},
   "outputs": [
    {
     "name": "stdout",
     "output_type": "stream",
     "text": [
      "      0 / 200000: 3.3401\n",
      "  10000 / 200000: 2.2846\n",
      "  20000 / 200000: 2.3284\n",
      "  30000 / 200000: 2.5253\n",
      "  40000 / 200000: 1.9592\n",
      "  50000 / 200000: 2.5090\n",
      "  60000 / 200000: 2.3124\n",
      "  70000 / 200000: 2.0885\n",
      "  80000 / 200000: 2.3997\n",
      "  90000 / 200000: 2.1687\n",
      " 100000 / 200000: 1.9234\n",
      " 110000 / 200000: 2.3111\n",
      " 120000 / 200000: 1.9855\n",
      " 130000 / 200000: 2.5203\n",
      " 140000 / 200000: 2.3358\n",
      " 150000 / 200000: 2.2478\n",
      " 160000 / 200000: 2.0123\n",
      " 170000 / 200000: 1.8866\n",
      " 180000 / 200000: 1.9666\n",
      " 190000 / 200000: 1.8665\n",
      "2.2889885902404785\n"
     ]
    }
   ],
   "source": [
    "max_steps=200000\n",
    "batch_size = 32\n",
    "lossi = []\n",
    "\n",
    "\n",
    "for i in range(max_steps):\n",
    "\n",
    "    # Minibatch construct\n",
    "    ix = torch.randint(0,X_train.shape[0],(batch_size,), generator=g)\n",
    "    Xb,Yb = X_train[ix], Y_train[ix] # batch X and Y\n",
    "    \n",
    "    # Forward pass\n",
    "    emb = C[Xb] # embedding \n",
    "    embcat = emb.view(emb.shape[0],-1) # concat vectors\n",
    "\n",
    "    #linear layer\n",
    "    hpreact = embcat @ W1 #+ b1\n",
    "    \n",
    "    # NEW BATCHNORM layer\n",
    "    #---------------------------------------------------------------------------------\n",
    "    bnmeani = hpreact.mean(0,keepdim=True)\n",
    "    bnstdi = hpreact.std(0,keepdim=True)\n",
    "    hpreact = bngain * (hpreact - bnmeani) / bnstdi + bnbias # <- NEW BATCHNORM LAYER\n",
    "\n",
    "    with torch.no_grad():\n",
    "        bnmean_running = 0.999 * bnmean_running + 0.001 * bnmeani\n",
    "        bnstd_running = 0.999 * bnstd_running + 0.001 * bnstdi\n",
    "    #---------------------------------------------------------------------------------\n",
    "\n",
    "    # non-linear layer\n",
    "    h = torch.tanh(hpreact) \n",
    "    logits = h @ W2 + b2 # calculate the output layer (32,27)\n",
    "    loss = F.cross_entropy(logits,Yb)\n",
    "   \n",
    "    # Backward pass\n",
    "    for p in parameters:\n",
    "        p.grad = None\n",
    "    loss.backward()\n",
    "    \n",
    "    # Update\n",
    "    lr = 0.1 if i < 100000 else 0.01 # LR decay\n",
    "    for p in parameters:\n",
    "        p.data += -lr * p.grad\n",
    "\n",
    "    # Track stats\n",
    "    if i % 10000==0:\n",
    "        print(f'{i:7d} /{max_steps:7d}: {loss.item():.4f}')\n",
    "    lossi.append(loss.log10().item())\n",
    "    #break\n",
    "        \n",
    "print(loss.item())"
   ]
  },
  {
   "cell_type": "markdown",
   "id": "0b1757f0-4ad4-4c2b-84bc-32e2945d644b",
   "metadata": {},
   "source": [
    "**Checking the distribution of the valus in the hidden layer**"
   ]
  },
  {
   "cell_type": "code",
   "execution_count": 9,
   "id": "da55a954-79ef-477b-a09c-a50c8eb752a0",
   "metadata": {},
   "outputs": [],
   "source": [
    "#plt.hist(hpreact.view(-1).tolist(),30)\n",
    "#plt.show();"
   ]
  },
  {
   "cell_type": "markdown",
   "id": "c3791589-b90c-4b46-a826-4cd3efb819ff",
   "metadata": {},
   "source": [
    "**Checking the distribution of the valus in the hidden layer (TANH)**"
   ]
  },
  {
   "cell_type": "code",
   "execution_count": 10,
   "id": "10dcf221-1450-4c2f-8674-0af3f5702965",
   "metadata": {},
   "outputs": [],
   "source": [
    "#plt.hist(h.view(-1).tolist(),30)\n",
    "#plt.show()"
   ]
  },
  {
   "cell_type": "markdown",
   "id": "3f969fd6-2a8d-47d9-9b66-a0b8711f532b",
   "metadata": {},
   "source": [
    "ATTENTION: A LOT OF VALUES AT -1/1 -> This kills our neurons in the BACKPROPAGATION"
   ]
  },
  {
   "cell_type": "code",
   "execution_count": 11,
   "id": "5b21c38f-4fca-43a0-9505-f7844fa826b6",
   "metadata": {},
   "outputs": [],
   "source": [
    "# check if we have DEAD NEURONS (ON COLUMN complete WHITE)\n",
    "#plt.figure(figsize=(20,10))\n",
    "#plt.imshow(h.abs()>0.99, cmap='gray', interpolation='nearest')\n",
    "#plt.show()"
   ]
  },
  {
   "cell_type": "code",
   "execution_count": 12,
   "id": "c7dfb8a4-bde7-4cfe-958c-fce040613e85",
   "metadata": {},
   "outputs": [
    {
     "data": {
      "image/png": "[encoded data removed]",
      "text/plain": [
       "<Figure size 640x480 with 1 Axes>"
      ]
     },
     "metadata": {},
     "output_type": "display_data"
    }
   ],
   "source": [
    "plt.plot(lossi)\n",
    "plt.show()"
   ]
  },
  {
   "cell_type": "markdown",
   "id": "4f17dd33-2e0e-4605-b491-21eed8ed654c",
   "metadata": {},
   "source": [
    "### EVALUATION"
   ]
  },
  {
   "cell_type": "markdown",
   "id": "652b0db5-3900-41b8-8c06-04d11904ac67",
   "metadata": {},
   "source": [
    "with torch.no_grad():\n",
    "    #pass the training set through\n",
    "    emb = C[X_train]\n",
    "    embcat= emb.view(emb.shape[0],-1)\n",
    "    hpreact = embcat @ W1 + b1\n",
    "    # measure the mean/std over the entire treining set\n",
    "    bnmean = hpreact.mean(0, keepdim=True)\n",
    "    bnstd = hpreact.std(0, keepdim=True)"
   ]
  },
  {
   "cell_type": "code",
   "execution_count": 16,
   "id": "67777d1b-2c2a-401b-b944-e91658ac3bc9",
   "metadata": {},
   "outputs": [
    {
     "name": "stdout",
     "output_type": "stream",
     "text": [
      "train 2.0667054653167725\n",
      "dev 2.112140417098999\n"
     ]
    }
   ],
   "source": [
    "# @torch.no_grade() # this decorator disables gradient tracking\n",
    "\n",
    "def split_loss(split):\n",
    "    x,y ={\n",
    "        'train': (X_train,Y_train),\n",
    "        'dev' : (X_dev, Y_dev),\n",
    "        'test' : (X_test,Y_test)\n",
    "    }[split]\n",
    "    \n",
    "    emb = C[x] # embedding \n",
    "    embcat= emb.view(emb.shape[0],-1)\n",
    "\n",
    "    hpreact = embcat @ W1 + b1\n",
    "    # hpreact = bngain * (hpreact - hpreact.mean(0,keepdim=True)) / hpreact.std(0,keepdim=True) + bnbias # BatchNorm\n",
    "    hpreact = bngain * (hpreact - bnmean_running) / bnstd_running + bnbias\n",
    "    \n",
    "    h = torch.tanh(hpreact)  # Hidden Layer 1\n",
    "    logits = h @ W2 + b2  # Output layer \n",
    "    loss = F.cross_entropy(logits, y)  # LOSS\n",
    "    \n",
    "    print(split, loss.item())\n",
    "\n",
    "split_loss('train')\n",
    "split_loss('dev')"
   ]
  },
  {
   "cell_type": "markdown",
   "id": "3b2d6e08-36d9-4681-82f4-8de5388cf387",
   "metadata": {},
   "source": [
    "### Sample from the model"
   ]
  },
  {
   "cell_type": "code",
   "execution_count": 15,
   "id": "f9a13706-61dc-4bb9-9955-631842f2437e",
   "metadata": {},
   "outputs": [
    {
     "name": "stdout",
     "output_type": "stream",
     "text": [
      "mrraggunazzizbrendhlyam.\n",
      "quvurnghjgrben.\n",
      "qurrexstlingstpprenlokepplqtwfanthlyziqhmkamfiyshubirgshvrixstviktrenzlqwagterconnazkydd.\n",
      "quylduf.\n",
      "qhevrugustyfforunhzangagyansufazajacvorten.\n",
      "qubuniv.\n",
      "vosteffrddin.\n",
      "kxorbenjxpsingstctuzwubhmurrighstquxffevordwallaniktrbetz.\n",
      "quigstla.\n",
      "quitlf.\n",
      "xvalfigurghendrkefxrdor.\n",
      "xavonghkmaqzekhnkathp.\n",
      "judwit.\n",
      "bdoghzvordqucjaskpapspitlc.\n",
      "pptr.\n",
      "zizzagvontet.\n",
      "jhanplinklnnrxinggsttwordz.\n",
      "bryknazjaxthn.\n",
      "jandajtewan.\n",
      "cqubpsultzinghburuxcangchrnichmptermokswordylfordckupportej.\n"
     ]
    }
   ],
   "source": [
    "g = torch.Generator().manual_seed(2147483647 + 10)\n",
    "\n",
    "for _ in range (20):\n",
    "    \n",
    "    out = []\n",
    "    context = [0] * block_size # initalize with all \"...\"\n",
    "    \n",
    "    while True:\n",
    "        emb = C[torch.tensor([context])] # (1,block_size,d)\n",
    "        h = torch.tanh(emb.view(1,-1) @ W1 + b1)\n",
    "        logits = h @ W2 + b2 \n",
    "        prob = F.softmax(logits, dim=1)\n",
    "        \n",
    "        ix = torch.multinomial(prob,num_samples=1, generator=g).item()\n",
    "        context = context[1:] + [ix]\n",
    "\n",
    "        out.append(ix)\n",
    "        if ix == 0:\n",
    "            break\n",
    "\n",
    "    print(''.join(itos[i] for i in out))"
   ]
  },
  {
   "cell_type": "code",
   "execution_count": null,
   "id": "1bf6ce2d-fe5b-4964-97b1-ded5f5a54d77",
   "metadata": {},
   "outputs": [],
   "source": []
  }
 ],
 "metadata": {
  "kernelspec": {
   "display_name": "makemore_fun",
   "language": "python",
   "name": "makemore"
  },
  "language_info": {
   "codemirror_mode": {
    "name": "ipython",
    "version": 3
   },
   "file_extension": ".py",
   "mimetype": "text/x-python",
   "name": "python",
   "nbconvert_exporter": "python",
   "pygments_lexer": "ipython3",
   "version": "3.9.18"
  }
 },
 "nbformat": 4,
 "nbformat_minor": 5
}
