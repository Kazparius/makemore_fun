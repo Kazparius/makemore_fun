{
 "cells": [
  {
   "cell_type": "markdown",
   "id": "9527f162-4348-409d-84ba-1939cd7d85ec",
   "metadata": {},
   "source": [
    "**READINGS / PAPER:** https://arxiv.org/abs/1609.03499"
   ]
  },
  {
   "cell_type": "code",
   "execution_count": 2,
   "id": "b4fed020-46e7-4b6e-a0ca-c3f26fe7fb94",
   "metadata": {},
   "outputs": [],
   "source": [
    "import torch\n",
    "import torch.nn.functional as F\n",
    "import matplotlib.pyplot as plt"
   ]
  },
  {
   "cell_type": "code",
   "execution_count": 3,
   "id": "a590359b-b0c9-4db9-8c0b-904198f423eb",
   "metadata": {},
   "outputs": [
    {
     "data": {
      "text/plain": [
       "['emma', 'olivia', 'ava', 'isabella', 'sophia', 'charlotte', 'mia', 'amelia']"
      ]
     },
     "execution_count": 3,
     "metadata": {},
     "output_type": "execute_result"
    }
   ],
   "source": [
    "words = open('C:\\\\Users\\\\kaspa\\\\Desktop\\\\makemore_fun\\\\makemore-master\\\\names.txt', mode='r').read().split()\n",
    "words[:8]"
   ]
  },
  {
   "cell_type": "code",
   "execution_count": 4,
   "id": "bef6ca84-d8c9-48e9-abfa-ad20c190570b",
   "metadata": {},
   "outputs": [
    {
     "name": "stdout",
     "output_type": "stream",
     "text": [
      "{1: 'a', 2: 'b', 3: 'c', 4: 'd', 5: 'e', 6: 'f', 7: 'g', 8: 'h', 9: 'i', 10: 'j', 11: 'k', 12: 'l', 13: 'm', 14: 'n', 15: 'o', 16: 'p', 17: 'q', 18: 'r', 19: 's', 20: 't', 21: 'u', 22: 'v', 23: 'w', 24: 'x', 25: 'y', 26: 'z', 0: '.'}\n",
      "27\n"
     ]
    }
   ],
   "source": [
    "# build the vocabulary of chars and mapping to (stoi) / from (itos) integers\n",
    "chars = sorted(list(set(''.join(words))))\n",
    "\n",
    "stoi = {s:i+1 for i,s in enumerate(chars)}\n",
    "stoi['.'] = 0\n",
    "\n",
    "itos = {i:s for s,i in stoi.items()}\n",
    "vocab_size = len(itos)\n",
    "\n",
    "print(itos)\n",
    "print(vocab_size)"
   ]
  },
  {
   "cell_type": "code",
   "execution_count": 5,
   "id": "dc933461-04e7-4d56-8ff3-69a1095fd1b3",
   "metadata": {},
   "outputs": [
    {
     "name": "stdout",
     "output_type": "stream",
     "text": [
      "torch.Size([182625, 3]) torch.Size([182625])\n",
      "torch.Size([22655, 3]) torch.Size([22655])\n",
      "torch.Size([22866, 3]) torch.Size([22866])\n"
     ]
    }
   ],
   "source": [
    "# create the dataset split\n",
    "block_size = 3 # context length for the next word prediction\n",
    "\n",
    "def build_dataset(words):\n",
    "    X,Y = [],[] \n",
    "    \n",
    "    for w in words:\n",
    "        context = [0] * block_size\n",
    "        for ch in w + '.':\n",
    "            ix = stoi[ch]\n",
    "            X.append(context)\n",
    "            Y.append(ix)\n",
    "            context = context[1:] + [ix] #crop and append\n",
    "            \n",
    "    X = torch.tensor(X)\n",
    "    Y = torch.tensor(Y)\n",
    "    print(X.shape,Y.shape)\n",
    "    return X,Y\n",
    "\n",
    "import random\n",
    "random.seed(42)\n",
    "random.shuffle(words)\n",
    "n1 = int(0.8*len(words))\n",
    "n2 = int(0.9*len(words))\n",
    "\n",
    "X_train,Y_train = build_dataset(words[:n1])\n",
    "X_dev,Y_dev = build_dataset(words[n1:n2])\n",
    "X_test,Y_test = build_dataset(words[n2:])"
   ]
  },
  {
   "cell_type": "code",
   "execution_count": 6,
   "id": "f0993e7f-55bc-44fd-a068-edc12f03016e",
   "metadata": {},
   "outputs": [],
   "source": [
    "####"
   ]
  },
  {
   "cell_type": "code",
   "execution_count": 7,
   "id": "7a622595-7f65-40cc-92fd-d680b641bd1e",
   "metadata": {},
   "outputs": [
    {
     "name": "stdout",
     "output_type": "stream",
     "text": [
      "4137\n"
     ]
    }
   ],
   "source": [
    "# MLP\n",
    "n_embd = 10\n",
    "n_hidden = 64\n",
    "\n",
    "g = torch.Generator().manual_seed(2147483647)\n",
    "C = torch.randn((vocab_size,n_embd),                      generator=g)\n",
    "#---------------------------------------------------------------------------------\n",
    "W1 = torch.randn((n_embd * block_size,n_hidden),          generator=g) * (5/3) / ((n_embd * block_size )**0.5) \n",
    "b1 = torch.randn(n_hidden,                                generator=g) * 0.1 \n",
    "\n",
    "W2 = torch.randn((n_hidden,vocab_size),                   generator=g) * 0.1 \n",
    "b2 = torch.randn(vocab_size,                              generator=g) * 0.1 \n",
    "#---------------------------------------------------------------------------------\n",
    "\n",
    "#BATCHNORM PARAMETERS\n",
    "#---------------------------------------------------------------------------------\n",
    "bngain = torch.ones((1,n_hidden))*0.1 + 1\n",
    "bnbias = torch.ones((1,n_hidden))*0.1\n",
    "#bnmean_running = torch.ones((1,n_hidden))\n",
    "#bnstd_running  = torch.ones((1,n_hidden))\n",
    "#---------------------------------------------------------------------------------\n",
    "\n",
    "parameters = [C, W1, b1, W2, b2, bngain,bnbias]\n",
    "print(sum(p.nelement() for p in parameters))\n",
    "for p in parameters:\n",
    "    p.requires_grad = True"
   ]
  }
 ],
 "metadata": {
  "kernelspec": {
   "display_name": "makemore_fun",
   "language": "python",
   "name": "makemore"
  },
  "language_info": {
   "codemirror_mode": {
    "name": "ipython",
    "version": 3
   },
   "file_extension": ".py",
   "mimetype": "text/x-python",
   "name": "python",
   "nbconvert_exporter": "python",
   "pygments_lexer": "ipython3",
   "version": "3.9.18"
  }
 },
 "nbformat": 4,
 "nbformat_minor": 5
}
