{
 "cells": [
  {
   "cell_type": "markdown",
   "id": "9527f162-4348-409d-84ba-1939cd7d85ec",
   "metadata": {},
   "source": [
    "**READINGS / PAPER:** https://www.jmlr.org/papers/volume3/bengio03a/bengio03a.pdf"
   ]
  },
  {
   "cell_type": "code",
   "execution_count": 1,
   "id": "9e222c14-3008-426b-85ec-d3dacd295e5d",
   "metadata": {},
   "outputs": [],
   "source": [
    "import torch\n",
    "import torch.nn.functional as F\n",
    "import matplotlib.pyplot as plt"
   ]
  },
  {
   "cell_type": "code",
   "execution_count": 2,
   "id": "a590359b-b0c9-4db9-8c0b-904198f423eb",
   "metadata": {},
   "outputs": [
    {
     "data": {
      "text/plain": [
       "['emma', 'olivia', 'ava', 'isabella', 'sophia', 'charlotte', 'mia', 'amelia']"
      ]
     },
     "execution_count": 2,
     "metadata": {},
     "output_type": "execute_result"
    }
   ],
   "source": [
    "words = open('C:\\\\Users\\\\kaspa\\\\Desktop\\\\makemore_fun\\\\makemore-master\\\\names.txt', mode='r').read().split()\n",
    "words[:8]"
   ]
  },
  {
   "cell_type": "code",
   "execution_count": 3,
   "id": "5783c8c6-7348-448c-a5f2-b8d14682b3db",
   "metadata": {},
   "outputs": [
    {
     "data": {
      "text/plain": [
       "32033"
      ]
     },
     "execution_count": 3,
     "metadata": {},
     "output_type": "execute_result"
    }
   ],
   "source": [
    "len(words)"
   ]
  },
  {
   "cell_type": "markdown",
   "id": "5143c52c-f2b8-4a54-bb5f-c30081584af2",
   "metadata": {},
   "source": [
    "# Creating X and Y"
   ]
  },
  {
   "cell_type": "code",
   "execution_count": 4,
   "id": "bef6ca84-d8c9-48e9-abfa-ad20c190570b",
   "metadata": {},
   "outputs": [],
   "source": [
    "# build the vocabulary of chars and mapping to (stoi) / from (itos) integers\n",
    "chars = sorted(list(set(''.join(words))))\n",
    "\n",
    "stoi = {s:i+1 for i,s in enumerate(chars)}\n",
    "stoi['.'] = 0\n",
    "\n",
    "itos = {i:s for s,i in stoi.items()}"
   ]
  },
  {
   "cell_type": "code",
   "execution_count": 5,
   "id": "cfd6b69d-f838-456f-940c-aaf0e6c0da4c",
   "metadata": {},
   "outputs": [
    {
     "name": "stdout",
     "output_type": "stream",
     "text": [
      "{'a': 1, 'b': 2, 'c': 3, 'd': 4, 'e': 5, 'f': 6, 'g': 7, 'h': 8, 'i': 9, 'j': 10, 'k': 11, 'l': 12, 'm': 13, 'n': 14, 'o': 15, 'p': 16, 'q': 17, 'r': 18, 's': 19, 't': 20, 'u': 21, 'v': 22, 'w': 23, 'x': 24, 'y': 25, 'z': 26, '.': 0}\n"
     ]
    }
   ],
   "source": [
    "print(stoi)"
   ]
  },
  {
   "cell_type": "code",
   "execution_count": 6,
   "id": "ce385a4d-6870-4872-880f-5bdf86914b97",
   "metadata": {},
   "outputs": [
    {
     "name": "stdout",
     "output_type": "stream",
     "text": [
      "{1: 'a', 2: 'b', 3: 'c', 4: 'd', 5: 'e', 6: 'f', 7: 'g', 8: 'h', 9: 'i', 10: 'j', 11: 'k', 12: 'l', 13: 'm', 14: 'n', 15: 'o', 16: 'p', 17: 'q', 18: 'r', 19: 's', 20: 't', 21: 'u', 22: 'v', 23: 'w', 24: 'x', 25: 'y', 26: 'z', 0: '.'}\n"
     ]
    }
   ],
   "source": [
    "print(itos)"
   ]
  },
  {
   "cell_type": "code",
   "execution_count": 7,
   "id": "3e0a4da6-2528-4e1a-9215-4ca890493cfd",
   "metadata": {},
   "outputs": [
    {
     "name": "stdout",
     "output_type": "stream",
     "text": [
      "\n",
      "emma\n",
      "... ---> e\n",
      "..e ---> m\n",
      ".em ---> m\n",
      "emm ---> a\n",
      "mma ---> .\n",
      "\n",
      "olivia\n",
      "... ---> o\n",
      "..o ---> l\n",
      ".ol ---> i\n",
      "oli ---> v\n",
      "liv ---> i\n",
      "ivi ---> a\n",
      "via ---> .\n",
      "\n",
      "ava\n",
      "... ---> a\n",
      "..a ---> v\n",
      ".av ---> a\n",
      "ava ---> .\n",
      "\n",
      "isabella\n",
      "... ---> i\n",
      "..i ---> s\n",
      ".is ---> a\n",
      "isa ---> b\n",
      "sab ---> e\n",
      "abe ---> l\n",
      "bel ---> l\n",
      "ell ---> a\n",
      "lla ---> .\n",
      "\n",
      "sophia\n",
      "... ---> s\n",
      "..s ---> o\n",
      ".so ---> p\n",
      "sop ---> h\n",
      "oph ---> i\n",
      "phi ---> a\n",
      "hia ---> .\n"
     ]
    }
   ],
   "source": [
    "# create the dataset - JUST FOR EXPALANATION\n",
    "\n",
    "block_size = 3 # context length for the next word prediction\n",
    "X,Y = [],[] \n",
    "\n",
    "for w in words [:5]: #[:5] !!!!!USE THIS RANGE FOR EXPLANATION!!!!!\n",
    "    print()\n",
    "    print(w)\n",
    "    context = [0] * block_size\n",
    "    \n",
    "    for ch in w + '.':\n",
    "        ix = stoi[ch]\n",
    "        X.append(context)\n",
    "        Y.append(ix)\n",
    "        print(''.join(itos[i] for i in context), '--->', itos[ix])\n",
    "        context = context[1:] + [ix] #crop the current context and append the new\n",
    "  \n",
    "\n",
    "X = torch.tensor(X)\n",
    "Y = torch.tensor(Y)"
   ]
  },
  {
   "cell_type": "code",
   "execution_count": 8,
   "id": "bb9206d4-40a6-4608-a44a-5df8e26c0bad",
   "metadata": {},
   "outputs": [],
   "source": [
    "# create the dataset\n",
    "\n",
    "block_size = 3 # context length for the next word prediction\n",
    "X,Y = [],[] \n",
    "\n",
    "for w in words: #[:5] !!!!!USE THIS RANGE FOR EXPLANATION!!!!!\n",
    "    #print()\n",
    "    #print(w)\n",
    "    context = [0] * block_size\n",
    "    \n",
    "    for ch in w + '.':\n",
    "        ix = stoi[ch]\n",
    "        X.append(context)\n",
    "        Y.append(ix)\n",
    "        #print(''.join(itos[i] for i in context), '--->', itos[ix])\n",
    "        context = context[1:] + [ix] #crop the current context and append the new\n",
    "  \n",
    "\n",
    "X = torch.tensor(X)\n",
    "Y = torch.tensor(Y)"
   ]
  },
  {
   "cell_type": "code",
   "execution_count": 9,
   "id": "f4f2884b-8f39-4227-bf9f-e1502d0e4604",
   "metadata": {},
   "outputs": [
    {
     "data": {
      "text/plain": [
       "(torch.Size([228146, 3]), torch.int64)"
      ]
     },
     "execution_count": 9,
     "metadata": {},
     "output_type": "execute_result"
    }
   ],
   "source": [
    "X.shape, X.dtype"
   ]
  },
  {
   "cell_type": "markdown",
   "id": "49a6d866-601f-4298-b91a-cfd51830e1a5",
   "metadata": {},
   "source": [
    "**INPUT**"
   ]
  },
  {
   "cell_type": "code",
   "execution_count": 10,
   "id": "4d9565cc-c00c-4f78-b373-97744d7e063a",
   "metadata": {},
   "outputs": [
    {
     "data": {
      "text/plain": [
       "tensor([[ 0,  0,  0],\n",
       "        [ 0,  0,  5],\n",
       "        [ 0,  5, 13],\n",
       "        ...,\n",
       "        [26, 26, 25],\n",
       "        [26, 25, 26],\n",
       "        [25, 26, 24]])"
      ]
     },
     "execution_count": 10,
     "metadata": {},
     "output_type": "execute_result"
    }
   ],
   "source": [
    "X"
   ]
  },
  {
   "cell_type": "code",
   "execution_count": 11,
   "id": "ff3d0753-deab-4641-b35e-0e6dab92d1ff",
   "metadata": {},
   "outputs": [
    {
     "data": {
      "text/plain": [
       "(torch.Size([228146]), torch.int64)"
      ]
     },
     "execution_count": 11,
     "metadata": {},
     "output_type": "execute_result"
    }
   ],
   "source": [
    "Y.shape, Y.dtype"
   ]
  },
  {
   "cell_type": "code",
   "execution_count": 12,
   "id": "862941e1-ec9c-4eb7-8a97-5a052d9ea5c0",
   "metadata": {},
   "outputs": [
    {
     "data": {
      "text/plain": [
       "tensor([ 5, 13, 13,  ..., 26, 24,  0])"
      ]
     },
     "execution_count": 12,
     "metadata": {},
     "output_type": "execute_result"
    }
   ],
   "source": [
    "Y"
   ]
  },
  {
   "cell_type": "markdown",
   "id": "666b2022-98ee-4af5-8fce-dac91c8bcc37",
   "metadata": {},
   "source": [
    "# FORWARD PASS"
   ]
  },
  {
   "cell_type": "markdown",
   "id": "24799bf6-adba-40cd-b6c6-828107186a2d",
   "metadata": {},
   "source": [
    "**Weight Matrix - C**"
   ]
  },
  {
   "cell_type": "code",
   "execution_count": 13,
   "id": "6b3d0438-e20b-477c-b017-59ab8b232c01",
   "metadata": {},
   "outputs": [],
   "source": [
    "# g = torch.Generator().manual_seed(2147483647)\n",
    "# random initialization in a 2dim space\n",
    "C = torch.randn((27,2))"
   ]
  },
  {
   "cell_type": "code",
   "execution_count": 14,
   "id": "f17e9bfc-ab3e-4e2a-b2a6-84812d8d0ce2",
   "metadata": {},
   "outputs": [
    {
     "data": {
      "text/plain": [
       "tensor([[ 0.3455, -0.1986],\n",
       "        [-0.7179,  0.0123],\n",
       "        [-0.4679,  0.4565],\n",
       "        [ 2.1048,  0.6889],\n",
       "        [-0.8014, -2.3663],\n",
       "        [ 0.2117, -1.0084],\n",
       "        [ 0.1266, -0.1162],\n",
       "        [ 1.8136, -0.5564],\n",
       "        [-1.0424, -0.5984],\n",
       "        [-0.5982,  0.6753],\n",
       "        [ 1.1683, -0.4527],\n",
       "        [ 0.2650,  0.3076],\n",
       "        [ 3.0085, -0.6022],\n",
       "        [ 0.5154, -1.3457],\n",
       "        [ 0.5983, -0.3770],\n",
       "        [ 0.2802,  1.5344],\n",
       "        [ 0.8929, -1.7570],\n",
       "        [ 0.0502, -0.1382],\n",
       "        [-1.3942, -0.1923],\n",
       "        [-1.0899, -0.5286],\n",
       "        [-1.4450,  0.0327],\n",
       "        [ 0.3350,  2.0485],\n",
       "        [ 1.9015, -0.2243],\n",
       "        [ 0.2170, -1.2320],\n",
       "        [ 0.6083, -1.8028],\n",
       "        [ 0.0280, -0.7907],\n",
       "        [ 0.7993,  0.7595]])"
      ]
     },
     "execution_count": 14,
     "metadata": {},
     "output_type": "execute_result"
    }
   ],
   "source": [
    "C "
   ]
  },
  {
   "cell_type": "markdown",
   "id": "070430b0-ab90-4223-b31e-2ef4546a6637",
   "metadata": {},
   "source": [
    "**EXAMPLE**"
   ]
  },
  {
   "cell_type": "code",
   "execution_count": 15,
   "id": "f97fd55d-97f2-48b6-b340-0c37989b4041",
   "metadata": {},
   "outputs": [
    {
     "data": {
      "text/plain": [
       "tensor([ 0.2117, -1.0084])"
      ]
     },
     "execution_count": 15,
     "metadata": {},
     "output_type": "execute_result"
    }
   ],
   "source": [
    "#WAY ONE - just indexing\n",
    "C[5]"
   ]
  },
  {
   "cell_type": "markdown",
   "id": "92c6753c-d3c0-4b48-8375-6676ee391644",
   "metadata": {},
   "source": [
    "One Hot Encoding"
   ]
  },
  {
   "cell_type": "code",
   "execution_count": 16,
   "id": "433ae9b3-5688-4a6f-b05b-0f8468450d10",
   "metadata": {},
   "outputs": [
    {
     "data": {
      "text/plain": [
       "tensor([0, 0, 0, 0, 0, 1, 0, 0, 0, 0, 0, 0, 0, 0, 0, 0, 0, 0, 0, 0, 0, 0, 0, 0,\n",
       "        0, 0, 0])"
      ]
     },
     "execution_count": 16,
     "metadata": {},
     "output_type": "execute_result"
    }
   ],
   "source": [
    "#WAY TWO - Encoding\n",
    "F.one_hot(torch.tensor(5),num_classes=27)"
   ]
  },
  {
   "cell_type": "code",
   "execution_count": 17,
   "id": "64b78a4f-5888-4d29-bf7c-ec761f73bf90",
   "metadata": {},
   "outputs": [
    {
     "data": {
      "text/plain": [
       "tensor([ 0.2117, -1.0084])"
      ]
     },
     "execution_count": 17,
     "metadata": {},
     "output_type": "execute_result"
    }
   ],
   "source": [
    "F.one_hot(torch.tensor(5),num_classes=27).float() @ C"
   ]
  },
  {
   "cell_type": "markdown",
   "id": "19450c37-18f3-4f8a-8656-23dfa5be2670",
   "metadata": {},
   "source": [
    "## Embedding X in C"
   ]
  },
  {
   "cell_type": "code",
   "execution_count": 18,
   "id": "da640466-7c71-442c-977d-ff62df93575a",
   "metadata": {},
   "outputs": [
    {
     "data": {
      "text/plain": [
       "tensor([[[ 0.3455, -0.1986],\n",
       "         [ 0.3455, -0.1986],\n",
       "         [ 0.3455, -0.1986]],\n",
       "\n",
       "        [[ 0.3455, -0.1986],\n",
       "         [ 0.3455, -0.1986],\n",
       "         [ 0.2117, -1.0084]],\n",
       "\n",
       "        [[ 0.3455, -0.1986],\n",
       "         [ 0.2117, -1.0084],\n",
       "         [ 0.5154, -1.3457]],\n",
       "\n",
       "        ...,\n",
       "\n",
       "        [[ 0.7993,  0.7595],\n",
       "         [ 0.7993,  0.7595],\n",
       "         [ 0.0280, -0.7907]],\n",
       "\n",
       "        [[ 0.7993,  0.7595],\n",
       "         [ 0.0280, -0.7907],\n",
       "         [ 0.7993,  0.7595]],\n",
       "\n",
       "        [[ 0.0280, -0.7907],\n",
       "         [ 0.7993,  0.7595],\n",
       "         [ 0.6083, -1.8028]]])"
      ]
     },
     "execution_count": 18,
     "metadata": {},
     "output_type": "execute_result"
    }
   ],
   "source": [
    "# using indexing\n",
    "C[X]"
   ]
  },
  {
   "cell_type": "code",
   "execution_count": 19,
   "id": "e2cd59ff-d858-447a-8b88-336223588db1",
   "metadata": {},
   "outputs": [
    {
     "data": {
      "text/plain": [
       "torch.Size([228146, 3, 2])"
      ]
     },
     "execution_count": 19,
     "metadata": {},
     "output_type": "execute_result"
    }
   ],
   "source": [
    "emb = C[X]\n",
    "emb.shape"
   ]
  },
  {
   "cell_type": "markdown",
   "id": "be292c69-b29c-478a-8ecc-776e5b885e63",
   "metadata": {},
   "source": [
    "## Transform the Embedding Layer"
   ]
  },
  {
   "cell_type": "markdown",
   "id": "034c90af-5ed3-4579-aa2e-0ad6dc7caaad",
   "metadata": {},
   "source": [
    "Opt. 1 - cat"
   ]
  },
  {
   "cell_type": "code",
   "execution_count": 20,
   "id": "d835ab4f-2fe2-4ae3-9d0d-00866d0da3b0",
   "metadata": {},
   "outputs": [
    {
     "data": {
      "text/plain": [
       "torch.Size([228146, 6])"
      ]
     },
     "execution_count": 20,
     "metadata": {},
     "output_type": "execute_result"
    }
   ],
   "source": [
    "# USE torch.cat\n",
    "torch.cat([emb[:,0,:],emb[:,1,:],emb[:,2,:]],1).shape\n",
    "# BUT : ugly because its fix "
   ]
  },
  {
   "cell_type": "markdown",
   "id": "8c8306c3-d021-497f-9e03-2453ccf20709",
   "metadata": {},
   "source": [
    "Opt. 2 - cat + unbind"
   ]
  },
  {
   "cell_type": "code",
   "execution_count": 21,
   "id": "677350e5-9ad7-4791-aef1-524f4e6826bb",
   "metadata": {},
   "outputs": [],
   "source": [
    "# torch.unbind(emb,1)"
   ]
  },
  {
   "cell_type": "code",
   "execution_count": 22,
   "id": "322c8f2a-b778-4f31-b53c-2fa993ec4c12",
   "metadata": {},
   "outputs": [
    {
     "data": {
      "text/plain": [
       "torch.Size([228146, 6])"
      ]
     },
     "execution_count": 22,
     "metadata": {},
     "output_type": "execute_result"
    }
   ],
   "source": [
    "# BETTER!!! torch.unbind(emb,1)\n",
    "torch.cat(torch.unbind(emb,1),1).shape\n",
    "# BUT : ineffizinet, as new memory is used"
   ]
  },
  {
   "cell_type": "markdown",
   "id": "466b9ca9-3ecc-42df-b619-99669ae1138e",
   "metadata": {},
   "source": [
    "**Opt. 3 - view** <- BEST"
   ]
  },
  {
   "cell_type": "code",
   "execution_count": 23,
   "id": "2361abd4-e76a-4650-8d59-a1544bc38381",
   "metadata": {},
   "outputs": [
    {
     "data": {
      "text/plain": [
       "torch.Size([228146, 6])"
      ]
     },
     "execution_count": 23,
     "metadata": {},
     "output_type": "execute_result"
    }
   ],
   "source": [
    "emb.view(emb.shape[0],6)\n",
    "\n",
    "emb.view(emb.shape[0],6).shape"
   ]
  },
  {
   "cell_type": "markdown",
   "id": "158239f2-4a59-4052-9d36-4757f13f083e",
   "metadata": {},
   "source": [
    "## Calculate the hidden Layer h (Activationfunction: tanh)"
   ]
  },
  {
   "cell_type": "code",
   "execution_count": 24,
   "id": "2bfb51e4-bc1a-4687-a60c-3936b417e3b2",
   "metadata": {},
   "outputs": [],
   "source": [
    "W1 = torch.randn((6,100))\n",
    "b1 = torch.randn(100)"
   ]
  },
  {
   "cell_type": "code",
   "execution_count": 25,
   "id": "98faf836-a811-402f-9b4e-be174f64d328",
   "metadata": {},
   "outputs": [],
   "source": [
    "# TANH \n",
    "h = torch.tanh(emb.view(emb.shape[0],6) @ W1 + b1) # emb.shape[0] or -1, pytorch will infer what this should be"
   ]
  },
  {
   "cell_type": "code",
   "execution_count": 26,
   "id": "bab0db8c-a2f2-4630-b0d4-20a30906f06b",
   "metadata": {},
   "outputs": [
    {
     "data": {
      "text/plain": [
       "torch.Size([228146, 100])"
      ]
     },
     "execution_count": 26,
     "metadata": {},
     "output_type": "execute_result"
    }
   ],
   "source": [
    "h.shape"
   ]
  },
  {
   "cell_type": "markdown",
   "id": "d799fef5-85c8-4bec-bdbc-d6590eb045a4",
   "metadata": {},
   "source": [
    "## Calculate the output Layer P (Activationfunction: softmax)"
   ]
  },
  {
   "cell_type": "code",
   "execution_count": 27,
   "id": "a7d874d4-a873-4dbc-b075-2b3f527d5591",
   "metadata": {},
   "outputs": [],
   "source": [
    "W2 = torch.randn((100,27))\n",
    "b2 = torch.randn(27)"
   ]
  },
  {
   "cell_type": "code",
   "execution_count": 28,
   "id": "008a6040-097c-49a8-8b2e-bfcc27713f02",
   "metadata": {},
   "outputs": [
    {
     "data": {
      "text/plain": [
       "torch.Size([228146, 27])"
      ]
     },
     "execution_count": 28,
     "metadata": {},
     "output_type": "execute_result"
    }
   ],
   "source": [
    "logits = h @ W2 + b2\n",
    "logits.shape"
   ]
  },
  {
   "cell_type": "code",
   "execution_count": 29,
   "id": "f902fd16-7d1a-4106-85d7-2c6b2b2c0e92",
   "metadata": {},
   "outputs": [
    {
     "data": {
      "text/plain": [
       "torch.Size([228146, 27])"
      ]
     },
     "execution_count": 29,
     "metadata": {},
     "output_type": "execute_result"
    }
   ],
   "source": [
    "# SOFTMAX\n",
    "counts = logits.exp()\n",
    "prob = counts / counts.sum(1, keepdims=True)\n",
    "prob.shape"
   ]
  },
  {
   "cell_type": "code",
   "execution_count": 30,
   "id": "4d3e5106-a0be-4fd1-a264-9f80ac04a1ee",
   "metadata": {},
   "outputs": [],
   "source": [
    "#prob[torch.arange(32), Y]"
   ]
  },
  {
   "cell_type": "markdown",
   "id": "df6221b7-c85d-470c-8072-3ed08311a6f7",
   "metadata": {},
   "source": [
    "## Calculate the LOSS"
   ]
  },
  {
   "cell_type": "code",
   "execution_count": 31,
   "id": "6695df6d-a463-4179-921d-983f6ce2da02",
   "metadata": {},
   "outputs": [],
   "source": [
    "#loss = -prob[torch.arange(32), Y].log().mean()\n",
    "#loss.item()"
   ]
  },
  {
   "cell_type": "markdown",
   "id": "65587e14-6f1d-4665-98d5-5c763a52cf75",
   "metadata": {},
   "source": [
    "# WRAP UP (Forward pass, Loss , Backward pass)"
   ]
  },
  {
   "cell_type": "code",
   "execution_count": 32,
   "id": "b925e585-72c9-40d3-943f-b68322bcaf9c",
   "metadata": {},
   "outputs": [
    {
     "data": {
      "text/plain": [
       "(torch.Size([228146, 3]), torch.Size([228146]))"
      ]
     },
     "execution_count": 32,
     "metadata": {},
     "output_type": "execute_result"
    }
   ],
   "source": [
    "X.shape, Y.shape"
   ]
  },
  {
   "cell_type": "code",
   "execution_count": 33,
   "id": "34708ce4-4167-47ca-b75a-280f94b4c575",
   "metadata": {},
   "outputs": [],
   "source": [
    "g = torch.Generator().manual_seed(2147483647)\n",
    "C = torch.randn((27,2),generator=g)\n",
    "\n",
    "W1 = torch.randn((6,100))\n",
    "b1 = torch.randn(100)\n",
    "\n",
    "W2 = torch.randn((100,27))\n",
    "b2 = torch.randn(27)\n",
    "\n",
    "parameters = [C, W1, b1, W2, b2]"
   ]
  },
  {
   "cell_type": "code",
   "execution_count": 34,
   "id": "ea06bf14-a535-43e4-a2ee-7186ceeef2d6",
   "metadata": {},
   "outputs": [
    {
     "data": {
      "text/plain": [
       "3481"
      ]
     },
     "execution_count": 34,
     "metadata": {},
     "output_type": "execute_result"
    }
   ],
   "source": [
    "sum(p.nelement() for p in parameters) # number of parameters in total"
   ]
  },
  {
   "cell_type": "markdown",
   "id": "ea7fa102-4186-4b7e-87d9-ceb385b24ad5",
   "metadata": {},
   "source": [
    "JUST FOR EXPLANATION"
   ]
  },
  {
   "cell_type": "code",
   "execution_count": 35,
   "id": "bbd7e5f0-19fa-4bc5-a5b8-1c28761bfcda",
   "metadata": {},
   "outputs": [],
   "source": [
    "# Forward pass\n",
    "\n",
    "emb = C[X] # embedding\n",
    "\n",
    "# calculate the hidden layer (32,100)\n",
    "h = torch.tanh(emb.view(emb.shape[0],6) @ W1 + b1) \n",
    "\n",
    "# calculate the output layer (32,27)\n",
    "logits = h @ W2 + b2 \n",
    "counts = logits.exp() # SOFTMAX\n",
    "prob = counts / counts.sum(1, keepdims=True)\n",
    "\n",
    "# calculate the LOSS\n",
    "#loss = -prob[torch.arange(32), Y].log().mean() #LOSS\n",
    "#loss.item()"
   ]
  },
  {
   "cell_type": "markdown",
   "id": "05b8ed98-ae36-4269-ad0c-8548b4227177",
   "metadata": {},
   "source": [
    "**USE IN PRACTICE - PyTorch F.cross_entropy**"
   ]
  },
  {
   "cell_type": "markdown",
   "id": "7aac706b-0450-4c16-80a5-bd49f94536a8",
   "metadata": {},
   "source": [
    "WHY:\n",
    "1. Forward pass more efficient\n",
    "2. Backward pass more efficent\n",
    "3. Things can be much more numerical well behaved"
   ]
  },
  {
   "cell_type": "code",
   "execution_count": 36,
   "id": "132d0a24-bf6e-47e0-aeaf-b7f71d45d636",
   "metadata": {},
   "outputs": [],
   "source": [
    "for p in parameters:\n",
    "    p.requires_grad = True"
   ]
  },
  {
   "cell_type": "code",
   "execution_count": 37,
   "id": "5f238c0f-897e-41ef-a653-d1c235292848",
   "metadata": {},
   "outputs": [
    {
     "name": "stdout",
     "output_type": "stream",
     "text": [
      "19.761489868164062\n",
      "17.370933532714844\n",
      "15.3998441696167\n",
      "14.292196273803711\n",
      "13.55029010772705\n",
      "13.00264835357666\n",
      "12.52344799041748\n",
      "12.077524185180664\n",
      "11.662939071655273\n",
      "11.279186248779297\n",
      "11.279186248779297\n"
     ]
    }
   ],
   "source": [
    "for _ in range(10):\n",
    "\n",
    "    # Forward pass\n",
    "    emb = C[X] # embedding\n",
    "    \n",
    "    # calculate the hidden layer\n",
    "    h = torch.tanh(emb.view(emb.shape[0],6) @ W1 + b1) \n",
    "    \n",
    "    # calculate the output layer \n",
    "    logits = h @ W2 + b2 # calculate the output layer (32,27)\n",
    "    \n",
    "    # calculate the LOSS (using PyTorch Function: CROSS_ENTROPY)\n",
    "    loss = F.cross_entropy(logits,Y)\n",
    "    print(loss.item())\n",
    "    # Backward pass\n",
    "    for p in parameters:\n",
    "        p.grad = None\n",
    "    \n",
    "    loss.backward()\n",
    "    \n",
    "    #update\n",
    "    for p in parameters:\n",
    "        p.data += -0.1 * p.grad\n",
    "        \n",
    "print(loss.item())"
   ]
  },
  {
   "cell_type": "markdown",
   "id": "ec6a8baa-30ba-46b9-beb0-54abed87a223",
   "metadata": {},
   "source": [
    "**PROBLEM:** FW and BW 228146 samples -> takes to long "
   ]
  },
  {
   "cell_type": "markdown",
   "id": "3585f72d-7324-46a8-8800-09e9618e1ef8",
   "metadata": {},
   "source": [
    "# Optimization"
   ]
  },
  {
   "cell_type": "markdown",
   "id": "d0fb85a0-ded5-4e24-a5c6-f72be23d4360",
   "metadata": {},
   "source": [
    "## MINI BATCHES - Split the data in batches\n"
   ]
  },
  {
   "cell_type": "code",
   "execution_count": 38,
   "id": "9a0df895-bb88-4862-a5a8-03076f390f01",
   "metadata": {},
   "outputs": [
    {
     "data": {
      "text/plain": [
       "tensor([ 57842,  17490, 106610, 145543, 134546, 148643,  39627,  46086,  28783,\n",
       "         91264,  79239,  43019, 201286,  18186, 169002,  50048,  68388,  95247,\n",
       "        183761,  67763, 205054,   2606,  25819,  32646, 168259,   4718, 190998,\n",
       "         50021, 220207, 133319,   3173,  28603])"
      ]
     },
     "execution_count": 38,
     "metadata": {},
     "output_type": "execute_result"
    }
   ],
   "source": [
    "torch.randint(0,X.shape[0],(32,))"
   ]
  },
  {
   "cell_type": "markdown",
   "id": "ca0301e2-aff4-4484-b090-4e7b43f4b5e8",
   "metadata": {},
   "source": [
    "## LEARNING RATE - Try to find the best"
   ]
  },
  {
   "cell_type": "code",
   "execution_count": 39,
   "id": "f31020c3-0d53-4b5c-bac0-983633a8c510",
   "metadata": {},
   "outputs": [
    {
     "data": {
      "text/plain": [
       "tensor([0.0010, 0.0010, 0.0010, 0.0010, 0.0010, 0.0010, 0.0010, 0.0010, 0.0011,\n",
       "        0.0011, 0.0011, 0.0011, 0.0011, 0.0011, 0.0011, 0.0011, 0.0011, 0.0011,\n",
       "        0.0011, 0.0011, 0.0011, 0.0012, 0.0012, 0.0012, 0.0012, 0.0012, 0.0012,\n",
       "        0.0012, 0.0012, 0.0012, 0.0012, 0.0012, 0.0012, 0.0013, 0.0013, 0.0013,\n",
       "        0.0013, 0.0013, 0.0013, 0.0013, 0.0013, 0.0013, 0.0013, 0.0013, 0.0014,\n",
       "        0.0014, 0.0014, 0.0014, 0.0014, 0.0014, 0.0014, 0.0014, 0.0014, 0.0014,\n",
       "        0.0015, 0.0015, 0.0015, 0.0015, 0.0015, 0.0015, 0.0015, 0.0015, 0.0015,\n",
       "        0.0015, 0.0016, 0.0016, 0.0016, 0.0016, 0.0016, 0.0016, 0.0016, 0.0016,\n",
       "        0.0016, 0.0017, 0.0017, 0.0017, 0.0017, 0.0017, 0.0017, 0.0017, 0.0017,\n",
       "        0.0018, 0.0018, 0.0018, 0.0018, 0.0018, 0.0018, 0.0018, 0.0018, 0.0019,\n",
       "        0.0019, 0.0019, 0.0019, 0.0019, 0.0019, 0.0019, 0.0019, 0.0020, 0.0020,\n",
       "        0.0020, 0.0020, 0.0020, 0.0020, 0.0020, 0.0021, 0.0021, 0.0021, 0.0021,\n",
       "        0.0021, 0.0021, 0.0021, 0.0022, 0.0022, 0.0022, 0.0022, 0.0022, 0.0022,\n",
       "        0.0022, 0.0023, 0.0023, 0.0023, 0.0023, 0.0023, 0.0023, 0.0024, 0.0024,\n",
       "        0.0024, 0.0024, 0.0024, 0.0024, 0.0025, 0.0025, 0.0025, 0.0025, 0.0025,\n",
       "        0.0025, 0.0026, 0.0026, 0.0026, 0.0026, 0.0026, 0.0027, 0.0027, 0.0027,\n",
       "        0.0027, 0.0027, 0.0027, 0.0028, 0.0028, 0.0028, 0.0028, 0.0028, 0.0029,\n",
       "        0.0029, 0.0029, 0.0029, 0.0029, 0.0030, 0.0030, 0.0030, 0.0030, 0.0030,\n",
       "        0.0031, 0.0031, 0.0031, 0.0031, 0.0032, 0.0032, 0.0032, 0.0032, 0.0032,\n",
       "        0.0033, 0.0033, 0.0033, 0.0033, 0.0034, 0.0034, 0.0034, 0.0034, 0.0034,\n",
       "        0.0035, 0.0035, 0.0035, 0.0035, 0.0036, 0.0036, 0.0036, 0.0036, 0.0037,\n",
       "        0.0037, 0.0037, 0.0037, 0.0038, 0.0038, 0.0038, 0.0039, 0.0039, 0.0039,\n",
       "        0.0039, 0.0040, 0.0040, 0.0040, 0.0040, 0.0041, 0.0041, 0.0041, 0.0042,\n",
       "        0.0042, 0.0042, 0.0042, 0.0043, 0.0043, 0.0043, 0.0044, 0.0044, 0.0044,\n",
       "        0.0045, 0.0045, 0.0045, 0.0045, 0.0046, 0.0046, 0.0046, 0.0047, 0.0047,\n",
       "        0.0047, 0.0048, 0.0048, 0.0048, 0.0049, 0.0049, 0.0049, 0.0050, 0.0050,\n",
       "        0.0050, 0.0051, 0.0051, 0.0051, 0.0052, 0.0052, 0.0053, 0.0053, 0.0053,\n",
       "        0.0054, 0.0054, 0.0054, 0.0055, 0.0055, 0.0056, 0.0056, 0.0056, 0.0057,\n",
       "        0.0057, 0.0058, 0.0058, 0.0058, 0.0059, 0.0059, 0.0060, 0.0060, 0.0060,\n",
       "        0.0061, 0.0061, 0.0062, 0.0062, 0.0062, 0.0063, 0.0063, 0.0064, 0.0064,\n",
       "        0.0065, 0.0065, 0.0066, 0.0066, 0.0067, 0.0067, 0.0067, 0.0068, 0.0068,\n",
       "        0.0069, 0.0069, 0.0070, 0.0070, 0.0071, 0.0071, 0.0072, 0.0072, 0.0073,\n",
       "        0.0073, 0.0074, 0.0074, 0.0075, 0.0075, 0.0076, 0.0076, 0.0077, 0.0077,\n",
       "        0.0078, 0.0079, 0.0079, 0.0080, 0.0080, 0.0081, 0.0081, 0.0082, 0.0082,\n",
       "        0.0083, 0.0084, 0.0084, 0.0085, 0.0085, 0.0086, 0.0086, 0.0087, 0.0088,\n",
       "        0.0088, 0.0089, 0.0090, 0.0090, 0.0091, 0.0091, 0.0092, 0.0093, 0.0093,\n",
       "        0.0094, 0.0095, 0.0095, 0.0096, 0.0097, 0.0097, 0.0098, 0.0099, 0.0099,\n",
       "        0.0100, 0.0101, 0.0101, 0.0102, 0.0103, 0.0104, 0.0104, 0.0105, 0.0106,\n",
       "        0.0106, 0.0107, 0.0108, 0.0109, 0.0109, 0.0110, 0.0111, 0.0112, 0.0112,\n",
       "        0.0113, 0.0114, 0.0115, 0.0116, 0.0116, 0.0117, 0.0118, 0.0119, 0.0120,\n",
       "        0.0121, 0.0121, 0.0122, 0.0123, 0.0124, 0.0125, 0.0126, 0.0127, 0.0127,\n",
       "        0.0128, 0.0129, 0.0130, 0.0131, 0.0132, 0.0133, 0.0134, 0.0135, 0.0136,\n",
       "        0.0137, 0.0137, 0.0138, 0.0139, 0.0140, 0.0141, 0.0142, 0.0143, 0.0144,\n",
       "        0.0145, 0.0146, 0.0147, 0.0148, 0.0149, 0.0150, 0.0151, 0.0152, 0.0154,\n",
       "        0.0155, 0.0156, 0.0157, 0.0158, 0.0159, 0.0160, 0.0161, 0.0162, 0.0163,\n",
       "        0.0165, 0.0166, 0.0167, 0.0168, 0.0169, 0.0170, 0.0171, 0.0173, 0.0174,\n",
       "        0.0175, 0.0176, 0.0178, 0.0179, 0.0180, 0.0181, 0.0182, 0.0184, 0.0185,\n",
       "        0.0186, 0.0188, 0.0189, 0.0190, 0.0192, 0.0193, 0.0194, 0.0196, 0.0197,\n",
       "        0.0198, 0.0200, 0.0201, 0.0202, 0.0204, 0.0205, 0.0207, 0.0208, 0.0210,\n",
       "        0.0211, 0.0212, 0.0214, 0.0215, 0.0217, 0.0218, 0.0220, 0.0221, 0.0223,\n",
       "        0.0225, 0.0226, 0.0228, 0.0229, 0.0231, 0.0232, 0.0234, 0.0236, 0.0237,\n",
       "        0.0239, 0.0241, 0.0242, 0.0244, 0.0246, 0.0247, 0.0249, 0.0251, 0.0253,\n",
       "        0.0254, 0.0256, 0.0258, 0.0260, 0.0261, 0.0263, 0.0265, 0.0267, 0.0269,\n",
       "        0.0271, 0.0273, 0.0274, 0.0276, 0.0278, 0.0280, 0.0282, 0.0284, 0.0286,\n",
       "        0.0288, 0.0290, 0.0292, 0.0294, 0.0296, 0.0298, 0.0300, 0.0302, 0.0304,\n",
       "        0.0307, 0.0309, 0.0311, 0.0313, 0.0315, 0.0317, 0.0320, 0.0322, 0.0324,\n",
       "        0.0326, 0.0328, 0.0331, 0.0333, 0.0335, 0.0338, 0.0340, 0.0342, 0.0345,\n",
       "        0.0347, 0.0350, 0.0352, 0.0354, 0.0357, 0.0359, 0.0362, 0.0364, 0.0367,\n",
       "        0.0369, 0.0372, 0.0375, 0.0377, 0.0380, 0.0382, 0.0385, 0.0388, 0.0390,\n",
       "        0.0393, 0.0396, 0.0399, 0.0401, 0.0404, 0.0407, 0.0410, 0.0413, 0.0416,\n",
       "        0.0418, 0.0421, 0.0424, 0.0427, 0.0430, 0.0433, 0.0436, 0.0439, 0.0442,\n",
       "        0.0445, 0.0448, 0.0451, 0.0455, 0.0458, 0.0461, 0.0464, 0.0467, 0.0471,\n",
       "        0.0474, 0.0477, 0.0480, 0.0484, 0.0487, 0.0491, 0.0494, 0.0497, 0.0501,\n",
       "        0.0504, 0.0508, 0.0511, 0.0515, 0.0518, 0.0522, 0.0526, 0.0529, 0.0533,\n",
       "        0.0537, 0.0540, 0.0544, 0.0548, 0.0552, 0.0556, 0.0559, 0.0563, 0.0567,\n",
       "        0.0571, 0.0575, 0.0579, 0.0583, 0.0587, 0.0591, 0.0595, 0.0599, 0.0604,\n",
       "        0.0608, 0.0612, 0.0616, 0.0621, 0.0625, 0.0629, 0.0634, 0.0638, 0.0642,\n",
       "        0.0647, 0.0651, 0.0656, 0.0660, 0.0665, 0.0670, 0.0674, 0.0679, 0.0684,\n",
       "        0.0688, 0.0693, 0.0698, 0.0703, 0.0708, 0.0713, 0.0718, 0.0723, 0.0728,\n",
       "        0.0733, 0.0738, 0.0743, 0.0748, 0.0753, 0.0758, 0.0764, 0.0769, 0.0774,\n",
       "        0.0780, 0.0785, 0.0790, 0.0796, 0.0802, 0.0807, 0.0813, 0.0818, 0.0824,\n",
       "        0.0830, 0.0835, 0.0841, 0.0847, 0.0853, 0.0859, 0.0865, 0.0871, 0.0877,\n",
       "        0.0883, 0.0889, 0.0895, 0.0901, 0.0908, 0.0914, 0.0920, 0.0927, 0.0933,\n",
       "        0.0940, 0.0946, 0.0953, 0.0959, 0.0966, 0.0973, 0.0979, 0.0986, 0.0993,\n",
       "        0.1000, 0.1007, 0.1014, 0.1021, 0.1028, 0.1035, 0.1042, 0.1050, 0.1057,\n",
       "        0.1064, 0.1072, 0.1079, 0.1087, 0.1094, 0.1102, 0.1109, 0.1117, 0.1125,\n",
       "        0.1133, 0.1140, 0.1148, 0.1156, 0.1164, 0.1172, 0.1181, 0.1189, 0.1197,\n",
       "        0.1205, 0.1214, 0.1222, 0.1231, 0.1239, 0.1248, 0.1256, 0.1265, 0.1274,\n",
       "        0.1283, 0.1292, 0.1301, 0.1310, 0.1319, 0.1328, 0.1337, 0.1346, 0.1356,\n",
       "        0.1365, 0.1374, 0.1384, 0.1394, 0.1403, 0.1413, 0.1423, 0.1433, 0.1443,\n",
       "        0.1453, 0.1463, 0.1473, 0.1483, 0.1493, 0.1504, 0.1514, 0.1525, 0.1535,\n",
       "        0.1546, 0.1557, 0.1567, 0.1578, 0.1589, 0.1600, 0.1611, 0.1623, 0.1634,\n",
       "        0.1645, 0.1657, 0.1668, 0.1680, 0.1691, 0.1703, 0.1715, 0.1727, 0.1739,\n",
       "        0.1751, 0.1763, 0.1775, 0.1788, 0.1800, 0.1812, 0.1825, 0.1838, 0.1850,\n",
       "        0.1863, 0.1876, 0.1889, 0.1902, 0.1916, 0.1929, 0.1942, 0.1956, 0.1969,\n",
       "        0.1983, 0.1997, 0.2010, 0.2024, 0.2038, 0.2053, 0.2067, 0.2081, 0.2096,\n",
       "        0.2110, 0.2125, 0.2140, 0.2154, 0.2169, 0.2184, 0.2200, 0.2215, 0.2230,\n",
       "        0.2246, 0.2261, 0.2277, 0.2293, 0.2309, 0.2325, 0.2341, 0.2357, 0.2373,\n",
       "        0.2390, 0.2406, 0.2423, 0.2440, 0.2457, 0.2474, 0.2491, 0.2508, 0.2526,\n",
       "        0.2543, 0.2561, 0.2579, 0.2597, 0.2615, 0.2633, 0.2651, 0.2669, 0.2688,\n",
       "        0.2707, 0.2725, 0.2744, 0.2763, 0.2783, 0.2802, 0.2821, 0.2841, 0.2861,\n",
       "        0.2880, 0.2900, 0.2921, 0.2941, 0.2961, 0.2982, 0.3002, 0.3023, 0.3044,\n",
       "        0.3065, 0.3087, 0.3108, 0.3130, 0.3151, 0.3173, 0.3195, 0.3217, 0.3240,\n",
       "        0.3262, 0.3285, 0.3308, 0.3331, 0.3354, 0.3377, 0.3400, 0.3424, 0.3448,\n",
       "        0.3472, 0.3496, 0.3520, 0.3544, 0.3569, 0.3594, 0.3619, 0.3644, 0.3669,\n",
       "        0.3695, 0.3720, 0.3746, 0.3772, 0.3798, 0.3825, 0.3851, 0.3878, 0.3905,\n",
       "        0.3932, 0.3959, 0.3987, 0.4014, 0.4042, 0.4070, 0.4098, 0.4127, 0.4155,\n",
       "        0.4184, 0.4213, 0.4243, 0.4272, 0.4302, 0.4331, 0.4362, 0.4392, 0.4422,\n",
       "        0.4453, 0.4484, 0.4515, 0.4546, 0.4578, 0.4610, 0.4642, 0.4674, 0.4706,\n",
       "        0.4739, 0.4772, 0.4805, 0.4838, 0.4872, 0.4906, 0.4940, 0.4974, 0.5008,\n",
       "        0.5043, 0.5078, 0.5113, 0.5149, 0.5185, 0.5221, 0.5257, 0.5293, 0.5330,\n",
       "        0.5367, 0.5404, 0.5442, 0.5479, 0.5517, 0.5556, 0.5594, 0.5633, 0.5672,\n",
       "        0.5712, 0.5751, 0.5791, 0.5831, 0.5872, 0.5913, 0.5954, 0.5995, 0.6036,\n",
       "        0.6078, 0.6120, 0.6163, 0.6206, 0.6249, 0.6292, 0.6336, 0.6380, 0.6424,\n",
       "        0.6469, 0.6513, 0.6559, 0.6604, 0.6650, 0.6696, 0.6743, 0.6789, 0.6837,\n",
       "        0.6884, 0.6932, 0.6980, 0.7028, 0.7077, 0.7126, 0.7176, 0.7225, 0.7275,\n",
       "        0.7326, 0.7377, 0.7428, 0.7480, 0.7531, 0.7584, 0.7636, 0.7689, 0.7743,\n",
       "        0.7796, 0.7850, 0.7905, 0.7960, 0.8015, 0.8071, 0.8127, 0.8183, 0.8240,\n",
       "        0.8297, 0.8355, 0.8412, 0.8471, 0.8530, 0.8589, 0.8648, 0.8708, 0.8769,\n",
       "        0.8830, 0.8891, 0.8953, 0.9015, 0.9077, 0.9140, 0.9204, 0.9268, 0.9332,\n",
       "        0.9397, 0.9462, 0.9528, 0.9594, 0.9660, 0.9727, 0.9795, 0.9863, 0.9931,\n",
       "        1.0000])"
      ]
     },
     "execution_count": 39,
     "metadata": {},
     "output_type": "execute_result"
    }
   ],
   "source": [
    "lre = torch.linspace(-3,0,1000) # LR Exponent\n",
    "lrs = 10**lre\n",
    "lrs"
   ]
  },
  {
   "cell_type": "markdown",
   "id": "2f3530a0-4bda-4ee5-9a66-4b7c6d774830",
   "metadata": {},
   "source": [
    "## EXAMPLE FOR MINI BATCHES AND FIND LR"
   ]
  },
  {
   "cell_type": "code",
   "execution_count": 40,
   "id": "6abac063-c7ab-4e57-8543-094d8d3b1e84",
   "metadata": {},
   "outputs": [],
   "source": [
    "lri =[]\n",
    "lossi =[]\n",
    "lre_i=[]\n",
    "\n",
    "for i in range(1000):\n",
    "\n",
    "    # MINIBATCH CONSTRUCT\n",
    "    ix = torch.randint(0,X.shape[0],(32,))\n",
    "    \n",
    "    # Forward pass\n",
    "    emb = C[X[ix]] # embedding in the range of the Minibatch\n",
    "    # calculate the hidden layer\n",
    "    h = torch.tanh(emb.view(emb.shape[0],6) @ W1 + b1) \n",
    "    # calculate the output layer \n",
    "    logits = h @ W2 + b2 # calculate the output layer (32,27)\n",
    "    # calculate the LOSS (using PyTorch Function: CROSS_ENTROPY)\n",
    "    loss = F.cross_entropy(logits,Y[ix])\n",
    "    # print(loss.item())\n",
    "   \n",
    "    # Backward pass\n",
    "    for p in parameters:\n",
    "        p.grad = None\n",
    "    loss.backward()\n",
    "    \n",
    "    # FIND LR\n",
    "    lr = lrs[i]\n",
    "    for p in parameters:\n",
    "        p.data += -lr * p.grad\n",
    "\n",
    "    #track stats\n",
    "    lri.append(lr)\n",
    "    lossi.append(loss.item())\n",
    "    lre_i.append(lre[i])\n",
    "        \n",
    "# print(loss.item())"
   ]
  },
  {
   "cell_type": "code",
   "execution_count": 41,
   "id": "373a71c4-457e-4264-8c87-52111685743b",
   "metadata": {},
   "outputs": [
    {
     "data": {
      "text/plain": [
       "[<matplotlib.lines.Line2D at 0x1e55f9a3850>]"
      ]
     },
     "execution_count": 41,
     "metadata": {},
     "output_type": "execute_result"
    },
    {
     "data": {
      "image/png": "[encoded data removed]",
      "text/plain": [
       "<Figure size 640x480 with 1 Axes>"
      ]
     },
     "metadata": {},
     "output_type": "display_data"
    }
   ],
   "source": [
    "plt.plot(lri,lossi)"
   ]
  },
  {
   "cell_type": "code",
   "execution_count": 42,
   "id": "b32fa8ff-c614-47b2-84b5-909c655d9e27",
   "metadata": {},
   "outputs": [
    {
     "data": {
      "text/plain": [
       "[<matplotlib.lines.Line2D at 0x1e55cf0ffd0>]"
      ]
     },
     "execution_count": 42,
     "metadata": {},
     "output_type": "execute_result"
    },
    {
     "data": {
      "image/png": "[encoded data removed]",
      "text/plain": [
       "<Figure size 640x480 with 1 Axes>"
      ]
     },
     "metadata": {},
     "output_type": "display_data"
    }
   ],
   "source": [
    "plt.plot(lre_i,lossi)"
   ]
  },
  {
   "cell_type": "markdown",
   "id": "416a56ab-f229-45f8-8120-d4306cf65e2e",
   "metadata": {},
   "source": [
    "### CONCLUSION: The LR seems to be good at 10**-1 / 0.1 "
   ]
  },
  {
   "cell_type": "markdown",
   "id": "1df57cf6-784b-4419-84f2-009e1010673f",
   "metadata": {},
   "source": [
    "# DISTRIBUTION OF DATA (train/dev/test)"
   ]
  },
  {
   "cell_type": "code",
   "execution_count": 43,
   "id": "5128c697-cb63-4888-abe2-4ec25a44c84f",
   "metadata": {},
   "outputs": [
    {
     "data": {
      "text/plain": [
       "32033"
      ]
     },
     "execution_count": 43,
     "metadata": {},
     "output_type": "execute_result"
    }
   ],
   "source": [
    "len(words)"
   ]
  },
  {
   "cell_type": "markdown",
   "id": "5fc54aa8-6da3-4dd1-8d09-c99177ae5e61",
   "metadata": {},
   "source": [
    "- Train: 80% - used to: optimize the PARAMETERS of the model \n",
    "- DEV: 10% - used to: optimize the HYPERPARAMETERS\n",
    "- TEST: 10% - used to: evaluate the PERFORMANCE at the end (YOU ARE ONLY ALLOWED TO TEST THE LOSS ON A TEST SET VERY VERY FEW TIMES)"
   ]
  },
  {
   "cell_type": "code",
   "execution_count": 44,
   "id": "edea3dad-ef26-4ceb-8c29-2a0bc71af273",
   "metadata": {},
   "outputs": [],
   "source": [
    "# create the dataset split\n",
    "def build_dataset(words):\n",
    "    block_size = 3 # context length for the next word prediction\n",
    "    X,Y = [],[] \n",
    "    \n",
    "    for w in words:\n",
    "        context = [0] * block_size\n",
    "        for ch in w + '.':\n",
    "            ix = stoi[ch]\n",
    "            X.append(context)\n",
    "            Y.append(ix)\n",
    "            context = context[1:] + [ix] #crop and append\n",
    "            \n",
    "    X = torch.tensor(X)\n",
    "    Y = torch.tensor(Y)\n",
    "    print(X.shape,Y.shape)\n",
    "    return X,Y"
   ]
  },
  {
   "cell_type": "code",
   "execution_count": 45,
   "id": "a517cdb6-89d4-44d1-89f6-d25dc9ddbd63",
   "metadata": {},
   "outputs": [],
   "source": [
    "import random\n",
    "\n",
    "random.seed(42)\n",
    "random.shuffle(words)\n",
    "n1 = int(0.8*len(words))\n",
    "n2 = int(0.9*len(words))"
   ]
  },
  {
   "cell_type": "markdown",
   "id": "5cf24875-0ee9-4a14-9115-2a0e9cd7b233",
   "metadata": {},
   "source": [
    "**DATA SPLIT**"
   ]
  },
  {
   "cell_type": "code",
   "execution_count": 46,
   "id": "f8902ef3-a637-42f1-a7ba-dade226c5a71",
   "metadata": {},
   "outputs": [
    {
     "name": "stdout",
     "output_type": "stream",
     "text": [
      "torch.Size([182625, 3]) torch.Size([182625])\n",
      "torch.Size([22655, 3]) torch.Size([22655])\n",
      "torch.Size([22866, 3]) torch.Size([22866])\n"
     ]
    }
   ],
   "source": [
    "X_train,Y_train = build_dataset(words[:n1])\n",
    "X_dev,Y_dev = build_dataset(words[n1:n2])\n",
    "X_test,Y_test = build_dataset(words[n2:])"
   ]
  },
  {
   "cell_type": "code",
   "execution_count": 47,
   "id": "1ef202d5-e7d8-4129-a2a1-f53974c44570",
   "metadata": {},
   "outputs": [],
   "source": [
    "# just to reset the network\n",
    "g = torch.Generator().manual_seed(2147483647)\n",
    "C = torch.randn((27,2),generator=g)\n",
    "\n",
    "W1 = torch.randn((6,100))\n",
    "b1 = torch.randn(100)\n",
    "\n",
    "W2 = torch.randn((100,27))\n",
    "b2 = torch.randn(27)\n",
    "\n",
    "parameters = [C, W1, b1, W2, b2]\n",
    "\n",
    "for p in parameters:\n",
    "    p.requires_grad = True"
   ]
  },
  {
   "cell_type": "markdown",
   "id": "a063540f-86f1-48fe-acc2-729cecb46a4f",
   "metadata": {},
   "source": [
    "**No. NETWORK-PARAMETERS**"
   ]
  },
  {
   "cell_type": "code",
   "execution_count": 48,
   "id": "c460b93e-401c-4ea6-860c-301e9f54aa6d",
   "metadata": {},
   "outputs": [
    {
     "data": {
      "text/plain": [
       "3481"
      ]
     },
     "execution_count": 48,
     "metadata": {},
     "output_type": "execute_result"
    }
   ],
   "source": [
    "sum(p.nelement() for p in parameters) "
   ]
  },
  {
   "cell_type": "markdown",
   "id": "06b4f23c-24e6-4416-8aca-ea2609f04d9f",
   "metadata": {},
   "source": [
    "**TRAIN**"
   ]
  },
  {
   "cell_type": "code",
   "execution_count": 49,
   "id": "100dbedb-a434-4f85-97ee-023b14c8ee80",
   "metadata": {},
   "outputs": [
    {
     "name": "stdout",
     "output_type": "stream",
     "text": [
      "2.8136448860168457\n"
     ]
    }
   ],
   "source": [
    "for i in range(10000):\n",
    "\n",
    "    # MINIBATCH CONSTRUCT\n",
    "    ix = torch.randint(0,X_train.shape[0],(32,))\n",
    "    \n",
    "    # Forward pass\n",
    "    emb = C[X_train[ix]] # embedding in the range of the Minibatch\n",
    "    # calculate the hidden layer\n",
    "    h = torch.tanh(emb.view(emb.shape[0],6) @ W1 + b1) \n",
    "    # calculate the output layer \n",
    "    logits = h @ W2 + b2 # calculate the output layer (32,27)\n",
    "    # calculate the LOSS (using PyTorch Function: CROSS_ENTROPY)\n",
    "    loss = F.cross_entropy(logits,Y_train[ix])\n",
    "    # print(loss.item())\n",
    "   \n",
    "    # Backward pass\n",
    "    for p in parameters:\n",
    "        p.grad = None\n",
    "    loss.backward()\n",
    "    \n",
    "    # Update\n",
    "    lr = 0.01\n",
    "    for p in parameters:\n",
    "        p.data += -lr * p.grad\n",
    "        \n",
    "print(loss.item())"
   ]
  },
  {
   "cell_type": "markdown",
   "id": "4f17dd33-2e0e-4605-b491-21eed8ed654c",
   "metadata": {},
   "source": [
    "**TRAIN_DATA - LOSS**"
   ]
  },
  {
   "cell_type": "code",
   "execution_count": 50,
   "id": "67777d1b-2c2a-401b-b944-e91658ac3bc9",
   "metadata": {},
   "outputs": [
    {
     "name": "stdout",
     "output_type": "stream",
     "text": [
      "2.5751068592071533\n"
     ]
    }
   ],
   "source": [
    " # Forward pass TRAIN\n",
    "emb = C[X_train] # embedding \n",
    "# Layer 1\n",
    "h = torch.tanh(emb.view(emb.shape[0],6) @ W1 + b1) \n",
    "# Output layer \n",
    "logits = h @ W2 + b2 \n",
    "# LOSS (using PyTorch Function: CROSS_ENTROPY)\n",
    "loss = F.cross_entropy(logits,Y_train)\n",
    "print(loss.item())"
   ]
  },
  {
   "cell_type": "markdown",
   "id": "fd8b9544-e538-4000-8996-19e3590e8d72",
   "metadata": {},
   "source": [
    "**DEV_DATA - LOSS**"
   ]
  },
  {
   "cell_type": "code",
   "execution_count": 51,
   "id": "6d727885-d8a7-444e-93ac-abec34873917",
   "metadata": {},
   "outputs": [
    {
     "name": "stdout",
     "output_type": "stream",
     "text": [
      "2.571214437484741\n"
     ]
    }
   ],
   "source": [
    " # Forward pass DEV\n",
    "emb = C[X_dev] # embedding \n",
    "# Layer 1\n",
    "h = torch.tanh(emb.view(emb.shape[0],6) @ W1 + b1) \n",
    "# Output layer \n",
    "logits = h @ W2 + b2 \n",
    "# LOSS (using PyTorch Function: CROSS_ENTROPY)\n",
    "loss = F.cross_entropy(logits,Y_dev)\n",
    "print(loss.item())"
   ]
  },
  {
   "cell_type": "markdown",
   "id": "b4ac3ded-3879-4acb-b3fa-39772055d687",
   "metadata": {},
   "source": [
    "### CONCLUSION: TRAIN- & DEV-LOSS ARE NEARLY EQUAL -> No. of Networkparameters is to low"
   ]
  },
  {
   "cell_type": "markdown",
   "id": "a74f0fa6-ca50-4ec0-897c-53c9e0756a33",
   "metadata": {},
   "source": [
    "So the Network is not able to memorize the whole data.\n",
    "\n",
    "**Expections:** Scalling up the Network should help"
   ]
  },
  {
   "cell_type": "markdown",
   "id": "a5e62705-5ad0-40a7-b4e3-d77669aa1c16",
   "metadata": {},
   "source": [
    "# SCALLING THE NETWORK"
   ]
  },
  {
   "cell_type": "code",
   "execution_count": 52,
   "id": "7b239671-df84-4f24-aa6d-8c3f65b12caf",
   "metadata": {},
   "outputs": [],
   "source": [
    "# just to reset the network\n",
    "g = torch.Generator().manual_seed(2147483647)\n",
    "C = torch.randn((27,10),generator=g)\n",
    "\n",
    "W1 = torch.randn((30,200))\n",
    "b1 = torch.randn(200)\n",
    "\n",
    "W2 = torch.randn((200,27))\n",
    "b2 = torch.randn(27)\n",
    "\n",
    "parameters = [C, W1, b1, W2, b2]\n",
    "\n",
    "for p in parameters:\n",
    "    p.requires_grad = True"
   ]
  },
  {
   "cell_type": "code",
   "execution_count": 53,
   "id": "bf004210-d0eb-4ccc-bf44-0362a97cc9a6",
   "metadata": {},
   "outputs": [
    {
     "data": {
      "text/plain": [
       "11897"
      ]
     },
     "execution_count": 53,
     "metadata": {},
     "output_type": "execute_result"
    }
   ],
   "source": [
    "sum(p.nelement() for p in parameters) "
   ]
  },
  {
   "cell_type": "markdown",
   "id": "3886e1a8-fed8-4525-aa36-0b5cb29f009d",
   "metadata": {},
   "source": [
    "**TRAIN**"
   ]
  },
  {
   "cell_type": "code",
   "execution_count": 54,
   "id": "958e354a-5a2d-4bb3-a166-55f54f04843a",
   "metadata": {},
   "outputs": [],
   "source": [
    "lossi =[]\n",
    "stepi=[]"
   ]
  },
  {
   "cell_type": "code",
   "execution_count": 55,
   "id": "f81890e1-ec65-4fa8-a97f-0af82179ef0f",
   "metadata": {},
   "outputs": [
    {
     "name": "stdout",
     "output_type": "stream",
     "text": [
      "2.3300931453704834\n"
     ]
    }
   ],
   "source": [
    "for i in range(200000):\n",
    "\n",
    "    # MINIBATCH CONSTRUCT\n",
    "    ix = torch.randint(0,X_train.shape[0],(32,))\n",
    "    \n",
    "    # Forward pass\n",
    "    emb = C[X_train[ix]] # embedding in the range of the Minibatch\n",
    "    # calculate the hidden layer\n",
    "    h = torch.tanh(emb.view(emb.shape[0],30) @ W1 + b1) \n",
    "    # calculate the output layer \n",
    "    logits = h @ W2 + b2 # calculate the output layer (32,27)\n",
    "    # calculate the LOSS (using PyTorch Function: CROSS_ENTROPY)\n",
    "    loss = F.cross_entropy(logits,Y_train[ix])\n",
    "    # print(loss.item())\n",
    "   \n",
    "    # Backward pass\n",
    "    for p in parameters:\n",
    "        p.grad = None\n",
    "    loss.backward()\n",
    "    \n",
    "    # Update\n",
    "    lr = 0.1 if i < 100000 else 0.01\n",
    "    for p in parameters:\n",
    "        p.data += -lr * p.grad\n",
    "\n",
    "    #track stats\n",
    "    stepi.append(i)\n",
    "    lossi.append(loss.log10().item())\n",
    "        \n",
    "print(loss.item())"
   ]
  },
  {
   "cell_type": "code",
   "execution_count": 56,
   "id": "8e790183-f4f0-4492-9fc3-aa3bbb3f7398",
   "metadata": {},
   "outputs": [
    {
     "data": {
      "text/plain": [
       "[<matplotlib.lines.Line2D at 0x1e55d15d2b0>]"
      ]
     },
     "execution_count": 56,
     "metadata": {},
     "output_type": "execute_result"
    },
    {
     "data": {
      "image/png": "[encoded data removed]",
      "text/plain": [
       "<Figure size 640x480 with 1 Axes>"
      ]
     },
     "metadata": {},
     "output_type": "display_data"
    }
   ],
   "source": [
    "plt.plot(stepi,lossi)"
   ]
  },
  {
   "cell_type": "markdown",
   "id": "d092e25e-da0a-4cab-8e91-94648a93dddd",
   "metadata": {},
   "source": [
    "**TRAIN_DATA - LOSS**"
   ]
  },
  {
   "cell_type": "code",
   "execution_count": 57,
   "id": "b98dcf90-bca7-4a24-8553-f6de49d5f62c",
   "metadata": {},
   "outputs": [
    {
     "name": "stdout",
     "output_type": "stream",
     "text": [
      "2.1292026042938232\n"
     ]
    }
   ],
   "source": [
    " # Forward pass TRAIN\n",
    "emb = C[X_train] # embedding \n",
    "# Layer 1\n",
    "h = torch.tanh(emb.view(emb.shape[0],30) @ W1 + b1) \n",
    "# Output layer \n",
    "logits = h @ W2 + b2 \n",
    "# LOSS (using PyTorch Function: CROSS_ENTROPY)\n",
    "loss = F.cross_entropy(logits,Y_train)\n",
    "print(loss.item())"
   ]
  },
  {
   "cell_type": "markdown",
   "id": "bd8b9bbe-b5dc-4141-9c86-b83d9f8416c8",
   "metadata": {},
   "source": [
    "**DEV_DATA - LOSS**"
   ]
  },
  {
   "cell_type": "code",
   "execution_count": 58,
   "id": "bba06033-bbd3-48b9-a8a6-ac58c2ca9f99",
   "metadata": {},
   "outputs": [
    {
     "name": "stdout",
     "output_type": "stream",
     "text": [
      "2.1710004806518555\n"
     ]
    }
   ],
   "source": [
    " # Forward pass DEV\n",
    "emb = C[X_dev] # embedding \n",
    "# Layer 1\n",
    "h = torch.tanh(emb.view(emb.shape[0],30) @ W1 + b1) \n",
    "# Output layer \n",
    "logits = h @ W2 + b2 \n",
    "# LOSS (using PyTorch Function: CROSS_ENTROPY)\n",
    "loss = F.cross_entropy(logits,Y_dev)\n",
    "print(loss.item())"
   ]
  },
  {
   "cell_type": "code",
   "execution_count": 59,
   "id": "b7900ebf-8a3a-4ddc-8f5d-f0432679d198",
   "metadata": {},
   "outputs": [
    {
     "data": {
      "image/png": "[encoded data removed]",
      "text/plain": [
       "<Figure size 800x800 with 1 Axes>"
      ]
     },
     "metadata": {},
     "output_type": "display_data"
    }
   ],
   "source": [
    "plt.figure(figsize=(8,8))\n",
    "plt.scatter(C[:,0].data,C[:,1].data, s= 200)\n",
    "\n",
    "for i in range(C.shape[0]):\n",
    "    plt.text(C[i,0].item(),C[i,1].item(), itos[i], ha='center', va='center', color='white')\n",
    "\n",
    "plt.grid('minor')"
   ]
  },
  {
   "cell_type": "markdown",
   "id": "82b4b343-1c94-412f-99d5-c022b47dfcae",
   "metadata": {},
   "source": [
    "# CONCLUSION - TUNING THE NN"
   ]
  },
  {
   "cell_type": "markdown",
   "id": "8946948f-97ca-4a55-9a79-ebe4add70dd6",
   "metadata": {},
   "source": [
    "The following things can be done to improve the network (decrease loss):\n",
    "- Scalling the No. of neurons in the hidden layer\n",
    "- Changing the dimensionality of the embadding \n",
    "- Changing the No. characters (context)\n",
    "- Changing the LR over time\n",
    "- CHanging the batch size"
   ]
  },
  {
   "cell_type": "markdown",
   "id": "46cc4c19-9f78-4c4f-b57c-ddf42de616a4",
   "metadata": {},
   "source": [
    "# SAMPLE FROM THE MODEL"
   ]
  },
  {
   "cell_type": "code",
   "execution_count": 61,
   "id": "352d0ca9-1d75-492b-9cc3-fd530f876f63",
   "metadata": {},
   "outputs": [
    {
     "name": "stdout",
     "output_type": "stream",
     "text": [
      "mora.\n",
      "kayah.\n",
      "see.\n",
      "med.\n",
      "ryla.\n",
      "rethantendraegelie.\n",
      "kameliah.\n",
      "miloe.\n",
      "leigh.\n",
      "edorxar.\n",
      "kayzion.\n",
      "kamin.\n",
      "shub.\n",
      "ridhiriel.\n",
      "kendreelynn.\n",
      "nocuorius.\n",
      "kavduriyah.\n",
      "fael.\n",
      "yuva.\n",
      "myston.\n"
     ]
    }
   ],
   "source": [
    "g = torch.Generator().manual_seed(2147483647 + 10)\n",
    "\n",
    "for _ in range (20):\n",
    "    \n",
    "    out = []\n",
    "    context = [0] * block_size # initalize with all \"...\"\n",
    "    \n",
    "    while True:\n",
    "        emb = C[torch.tensor([context])] # (1,block_size,d)\n",
    "        h = torch.tanh(emb.view(1,-1) @ W1 + b1)\n",
    "        logits = h @ W2 + b2 \n",
    "        prob = F.softmax(logits, dim=1)\n",
    "        \n",
    "        ix = torch.multinomial(prob,num_samples=1, generator=g).item()\n",
    "        context = context[1:] + [ix]\n",
    "\n",
    "        out.append(ix)\n",
    "        if ix == 0:\n",
    "            break\n",
    "\n",
    "    print(''.join(itos[i] for i in out))"
   ]
  },
  {
   "cell_type": "code",
   "execution_count": null,
   "id": "b621f649-42b4-4863-9665-519903a4f847",
   "metadata": {},
   "outputs": [],
   "source": []
  }
 ],
 "metadata": {
  "kernelspec": {
   "display_name": "makemore_fun",
   "language": "python",
   "name": "makemore"
  },
  "language_info": {
   "codemirror_mode": {
    "name": "ipython",
    "version": 3
   },
   "file_extension": ".py",
   "mimetype": "text/x-python",
   "name": "python",
   "nbconvert_exporter": "python",
   "pygments_lexer": "ipython3",
   "version": "3.9.18"
  }
 },
 "nbformat": 4,
 "nbformat_minor": 5
}
